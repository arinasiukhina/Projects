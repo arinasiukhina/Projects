{
 "cells": [
  {
   "cell_type": "markdown",
   "metadata": {},
   "source": [
    "# Влияние изменения шрифта в приложения на продажи."
   ]
  },
  {
   "cell_type": "markdown",
   "metadata": {},
   "source": [
    "Наша задача разобраться, как ведут себя пользователи при изменении шрифта в приложении. Мы проведем анали имеющихся данных и проведем А/А/В тестирование."
   ]
  },
  {
   "cell_type": "markdown",
   "metadata": {},
   "source": [
    "#### Данное исследование разделим на несколько частей.\n",
    "\n",
    "\n",
    "##### * [1. Изученеие файлов с данными, получение общей информации, загрузка библиотек, подготовка данных](#1-bullet)\n",
    "##### * [2. Предобработка данных.](#2-bullet)\n",
    "##### * [3.Изучение и проверка данных.](#3-bullet)\n",
    "##### * [4. Изучение воронки событий.](#4-bullet)\n",
    "##### * [5. A/A/B-тестирование. Изучение результатов эксперимента.](#5-bullet)\n",
    "##### * [6. Общий вывод.](#6-bullet)"
   ]
  },
  {
   "cell_type": "markdown",
   "metadata": {},
   "source": [
    "<a id='1-bullet'></a>"
   ]
  },
  {
   "cell_type": "markdown",
   "metadata": {},
   "source": [
    "### Изучение общей информации о таблице"
   ]
  },
  {
   "cell_type": "code",
   "execution_count": 2,
   "metadata": {},
   "outputs": [],
   "source": [
    "import pandas as pd\n",
    "import matplotlib.pyplot as plt \n",
    "import seaborn as sns\n",
    "import datetime as dt\n",
    "from scipy import stats as st\n",
    "import numpy as np\n",
    "import math as mth\n",
    "import warnings\n",
    "warnings.filterwarnings(\"ignore\")"
   ]
  },
  {
   "cell_type": "code",
   "execution_count": 3,
   "metadata": {},
   "outputs": [
    {
     "data": {
      "text/html": [
       "<div>\n",
       "<style scoped>\n",
       "    .dataframe tbody tr th:only-of-type {\n",
       "        vertical-align: middle;\n",
       "    }\n",
       "\n",
       "    .dataframe tbody tr th {\n",
       "        vertical-align: top;\n",
       "    }\n",
       "\n",
       "    .dataframe thead th {\n",
       "        text-align: right;\n",
       "    }\n",
       "</style>\n",
       "<table border=\"1\" class=\"dataframe\">\n",
       "  <thead>\n",
       "    <tr style=\"text-align: right;\">\n",
       "      <th></th>\n",
       "      <th>EventName</th>\n",
       "      <th>DeviceIDHash</th>\n",
       "      <th>EventTimestamp</th>\n",
       "      <th>ExpId</th>\n",
       "    </tr>\n",
       "  </thead>\n",
       "  <tbody>\n",
       "    <tr>\n",
       "      <td>0</td>\n",
       "      <td>MainScreenAppear</td>\n",
       "      <td>4575588528974610257</td>\n",
       "      <td>1564029816</td>\n",
       "      <td>246</td>\n",
       "    </tr>\n",
       "    <tr>\n",
       "      <td>1</td>\n",
       "      <td>MainScreenAppear</td>\n",
       "      <td>7416695313311560658</td>\n",
       "      <td>1564053102</td>\n",
       "      <td>246</td>\n",
       "    </tr>\n",
       "    <tr>\n",
       "      <td>2</td>\n",
       "      <td>PaymentScreenSuccessful</td>\n",
       "      <td>3518123091307005509</td>\n",
       "      <td>1564054127</td>\n",
       "      <td>248</td>\n",
       "    </tr>\n",
       "    <tr>\n",
       "      <td>3</td>\n",
       "      <td>CartScreenAppear</td>\n",
       "      <td>3518123091307005509</td>\n",
       "      <td>1564054127</td>\n",
       "      <td>248</td>\n",
       "    </tr>\n",
       "    <tr>\n",
       "      <td>4</td>\n",
       "      <td>PaymentScreenSuccessful</td>\n",
       "      <td>6217807653094995999</td>\n",
       "      <td>1564055322</td>\n",
       "      <td>248</td>\n",
       "    </tr>\n",
       "  </tbody>\n",
       "</table>\n",
       "</div>"
      ],
      "text/plain": [
       "                 EventName         DeviceIDHash  EventTimestamp  ExpId\n",
       "0         MainScreenAppear  4575588528974610257      1564029816    246\n",
       "1         MainScreenAppear  7416695313311560658      1564053102    246\n",
       "2  PaymentScreenSuccessful  3518123091307005509      1564054127    248\n",
       "3         CartScreenAppear  3518123091307005509      1564054127    248\n",
       "4  PaymentScreenSuccessful  6217807653094995999      1564055322    248"
      ]
     },
     "execution_count": 3,
     "metadata": {},
     "output_type": "execute_result"
    }
   ],
   "source": [
    "df = pd.read_csv('/datasets/logs_exp.csv', sep='\\t' )\n",
    "df.head()"
   ]
  },
  {
   "cell_type": "code",
   "execution_count": 4,
   "metadata": {},
   "outputs": [
    {
     "name": "stdout",
     "output_type": "stream",
     "text": [
      "<class 'pandas.core.frame.DataFrame'>\n",
      "RangeIndex: 244126 entries, 0 to 244125\n",
      "Data columns (total 4 columns):\n",
      "EventName         244126 non-null object\n",
      "DeviceIDHash      244126 non-null int64\n",
      "EventTimestamp    244126 non-null int64\n",
      "ExpId             244126 non-null int64\n",
      "dtypes: int64(3), object(1)\n",
      "memory usage: 7.5+ MB\n"
     ]
    }
   ],
   "source": [
    "df.info()"
   ]
  },
  {
   "cell_type": "markdown",
   "metadata": {},
   "source": [
    "### Вывод:"
   ]
  },
  {
   "cell_type": "markdown",
   "metadata": {},
   "source": [
    "Итак, нам дана таблица с 4 столбцами 244126 строками без пропусков. В данный момент для удобства мы исправим название столбцов и переведем тип данных во временной. Посмотрим есть ли дубликаты и удалим их."
   ]
  },
  {
   "cell_type": "markdown",
   "metadata": {},
   "source": [
    "<a id='2-bullet'></a>"
   ]
  },
  {
   "cell_type": "markdown",
   "metadata": {},
   "source": [
    "## Предобработка данных"
   ]
  },
  {
   "cell_type": "code",
   "execution_count": 5,
   "metadata": {},
   "outputs": [],
   "source": [
    "df=df.rename(columns={'EventName': 'event' ,'DeviceIDHash': 'id', 'EventTimestamp': 'time', 'ExpId': 'exp_id' })"
   ]
  },
  {
   "cell_type": "code",
   "execution_count": 6,
   "metadata": {},
   "outputs": [
    {
     "name": "stdout",
     "output_type": "stream",
     "text": [
      "Количество дубликатов: 413\n"
     ]
    }
   ],
   "source": [
    "print('Количество дубликатов:', df.duplicated().sum())"
   ]
  },
  {
   "cell_type": "code",
   "execution_count": 7,
   "metadata": {},
   "outputs": [],
   "source": [
    "df.drop_duplicates(inplace=True)"
   ]
  },
  {
   "cell_type": "code",
   "execution_count": 8,
   "metadata": {},
   "outputs": [],
   "source": [
    "df['time']=pd.to_datetime(df['time'], unit='s')"
   ]
  },
  {
   "cell_type": "code",
   "execution_count": 9,
   "metadata": {},
   "outputs": [],
   "source": [
    "df['date_time']=df['time'].dt.date"
   ]
  },
  {
   "cell_type": "markdown",
   "metadata": {},
   "source": [
    "### Вывод:"
   ]
  },
  {
   "cell_type": "markdown",
   "metadata": {},
   "source": [
    "Теперь у нас имеется приятная для анализа таблица с дополнительным столбцом."
   ]
  },
  {
   "cell_type": "markdown",
   "metadata": {},
   "source": [
    "<a id='3-bullet'></a>"
   ]
  },
  {
   "cell_type": "markdown",
   "metadata": {},
   "source": [
    "## Изучение и проверка данных"
   ]
  },
  {
   "cell_type": "code",
   "execution_count": 10,
   "metadata": {},
   "outputs": [
    {
     "name": "stdout",
     "output_type": "stream",
     "text": [
      "Количество событий: event\n",
      "CartScreenAppear            42668\n",
      "MainScreenAppear           119101\n",
      "OffersScreenAppear          46808\n",
      "PaymentScreenSuccessful     34118\n",
      "Tutorial                     1018\n",
      "Name: id, dtype: int64\n",
      " \n",
      "Всего событий: 243713\n"
     ]
    }
   ],
   "source": [
    "print('Количество событий:',df.groupby('event')['id'].count())\n",
    "print(' ')\n",
    "print('Всего событий:', df['event'].count())"
   ]
  },
  {
   "cell_type": "code",
   "execution_count": 11,
   "metadata": {},
   "outputs": [
    {
     "name": "stdout",
     "output_type": "stream",
     "text": [
      "Количество пользователей: 7551\n",
      "Среднее количество событий на пользователя 32\n"
     ]
    }
   ],
   "source": [
    "print('Количество пользователей:',df['id'].nunique())\n",
    "polisov_1=df['id'].nunique()\n",
    "polisov_2=df['event'].count()\n",
    "print('Среднее количество событий на пользователя', int(df['event'].count()/df['id'].nunique()))"
   ]
  },
  {
   "cell_type": "markdown",
   "metadata": {},
   "source": [
    "Мы нашли некотые первичные данные."
   ]
  },
  {
   "cell_type": "code",
   "execution_count": 12,
   "metadata": {},
   "outputs": [
    {
     "name": "stdout",
     "output_type": "stream",
     "text": [
      "Минимальная дата: 2019-07-25 04:43:36\n",
      "Максимальная дата: 2019-08-07 21:15:17\n"
     ]
    }
   ],
   "source": [
    "print('Минимальная дата:',df['time'].min())\n",
    "print('Максимальная дата:', df['time'].max())"
   ]
  },
  {
   "cell_type": "code",
   "execution_count": 13,
   "metadata": {},
   "outputs": [
    {
     "data": {
      "image/png": "[encoded data removed]",
      "text/plain": [
       "<Figure size 1080x288 with 1 Axes>"
      ]
     },
     "metadata": {
      "needs_background": "light"
     },
     "output_type": "display_data"
    }
   ],
   "source": [
    "plt.figure(figsize=(15, 4))\n",
    "df['time'].hist()\n",
    "plt.title('Распределение действий на сайте по времени')\n",
    "plt.xlabel(\"время\")\n",
    "plt.ylabel(\"количество совершенных событий\")\n",
    "plt.show()"
   ]
  },
  {
   "cell_type": "code",
   "execution_count": 14,
   "metadata": {},
   "outputs": [
    {
     "data": {
      "image/png": "[encoded data removed]",
      "text/plain": [
       "<Figure size 1080x288 with 1 Axes>"
      ]
     },
     "metadata": {
      "needs_background": "light"
     },
     "output_type": "display_data"
    }
   ],
   "source": [
    "plt.figure(figsize=(15, 4))\n",
    "df['date_time'].hist()\n",
    "plt.title('Распределение действий на сайте по дате')\n",
    "plt.xlabel(\"дата\")\n",
    "plt.ylabel(\"количество совершенных событий\")\n",
    "plt.show()"
   ]
  },
  {
   "cell_type": "markdown",
   "metadata": {},
   "source": [
    "Мы посмотрели на гистограмы и увидели, что часть данных \"доехала\" к нам из прошлого, поэтому для более точных результатов мы удалим данные до 1 августа 2019 года."
   ]
  },
  {
   "cell_type": "code",
   "execution_count": 15,
   "metadata": {},
   "outputs": [],
   "source": [
    "df=df[df['time']>'2019-07-31 23:59:59']"
   ]
  },
  {
   "cell_type": "code",
   "execution_count": 16,
   "metadata": {},
   "outputs": [
    {
     "name": "stdout",
     "output_type": "stream",
     "text": [
      "Количество событий 5\n",
      "Количество пользователей: 7534\n",
      "Разница количества пользователей 17\n",
      "Разница количества совершенных событий: 2826\n"
     ]
    }
   ],
   "source": [
    "print(\"Количество событий\",df['event'].nunique())\n",
    "print('Количество пользователей:',df['id'].nunique())\n",
    "print('Разница количества пользователей', polisov_1-df['id'].nunique())\n",
    "print('Разница количества совершенных событий:', polisov_2-df['event'].count())"
   ]
  },
  {
   "cell_type": "markdown",
   "metadata": {},
   "source": [
    "По большому счету у нас ничего не изменилось, после удаления выбивающихся значений. Да, мы потеряли 17 пользователей,но это меньше 1% от всех пользователей, поэтому такие значения мы по праву можем удалить."
   ]
  },
  {
   "cell_type": "code",
   "execution_count": 17,
   "metadata": {
    "scrolled": true
   },
   "outputs": [
    {
     "name": "stdout",
     "output_type": "stream",
     "text": [
      "Количество пользователей в 1 группе: 2484\n",
      "Количество пользователей в 2 группе: 2513\n",
      "Количество пользователей в 3 группе: 2537\n"
     ]
    }
   ],
   "source": [
    "group_1=df[df['exp_id']==246][['event', 'id', 'time', 'date_time']]\n",
    "group_2=df[df['exp_id']==247][['event', 'id', 'time', 'date_time']]\n",
    "group_3=df[df['exp_id']==248][['event', 'id', 'time', 'date_time']]\n",
    "print('Количество пользователей в 1 группе:',group_1['id'].nunique())\n",
    "print('Количество пользователей в 2 группе:', group_2['id'].nunique())\n",
    "print(\"Количество пользователей в 3 группе:\", group_3['id'].nunique())"
   ]
  },
  {
   "cell_type": "markdown",
   "metadata": {},
   "source": [
    "### Вывод:"
   ]
  },
  {
   "cell_type": "markdown",
   "metadata": {},
   "source": [
    "На этом шаге мы отбросили некоторые данные для более точных результатов. Мы удалили 17 пользователя, почти 3000 событий по причине данных \"из прошлого \"."
   ]
  },
  {
   "cell_type": "markdown",
   "metadata": {},
   "source": [
    "<a id='4-bullet'></a>"
   ]
  },
  {
   "cell_type": "markdown",
   "metadata": {},
   "source": [
    "## Изучение воронки событий."
   ]
  },
  {
   "cell_type": "code",
   "execution_count": 18,
   "metadata": {},
   "outputs": [
    {
     "name": "stdout",
     "output_type": "stream",
     "text": [
      "список событий в логе:\n",
      "['Tutorial' 'MainScreenAppear' 'OffersScreenAppear' 'CartScreenAppear'\n",
      " 'PaymentScreenSuccessful']\n"
     ]
    }
   ],
   "source": [
    "print('список событий в логе:')\n",
    "print(df['event'].unique())"
   ]
  },
  {
   "cell_type": "code",
   "execution_count": 19,
   "metadata": {},
   "outputs": [
    {
     "name": "stdout",
     "output_type": "stream",
     "text": [
      "6 days 21:07:49\n"
     ]
    }
   ],
   "source": [
    "print(df['time'].max()-df['time'].min())"
   ]
  },
  {
   "cell_type": "markdown",
   "metadata": {},
   "source": [
    "Этот эксперимет проводили в течении 7 дней."
   ]
  },
  {
   "cell_type": "code",
   "execution_count": 20,
   "metadata": {},
   "outputs": [
    {
     "name": "stdout",
     "output_type": "stream",
     "text": [
      "частота для Tutorial : 143\n",
      "частота для MainScreenAppear : 16761\n",
      "частота для OffersScreenAppear : 6619\n",
      "частота для CartScreenAppear : 6043\n",
      "частота для PaymentScreenSuccessful : 4845\n"
     ]
    }
   ],
   "source": [
    "for event in df['event'].unique():\n",
    "    print('частота для', event,':', int(df[df['event']==event]['id'].count()/7))"
   ]
  },
  {
   "cell_type": "markdown",
   "metadata": {},
   "source": [
    "* частота для MainScreenAppear : 16761\n",
    "* частота для OffersScreenAppear : 6619\n",
    "* частота для CartScreenAppear : 6043\n",
    "* частота для PaymentScreenSuccessful : 4845\n",
    "* частота для Tutorial : 143"
   ]
  },
  {
   "cell_type": "markdown",
   "metadata": {},
   "source": [
    "Выше мы видим список частот(количество в день) для каждого события. \n",
    "</div>\n",
    "</div>\n",
    "\n",
    "Заметим, что у нас выбивается значение 148, оно значительно меньше всех остальных. А событие 'tutorial'  (руководство) само по себе тоже выбивается из списка событий, потому что оно не входит в цепочку \"'MainScreenAppear', 'OffersScreenAppear', 'CartScreenAppear', 'PaymentScreenSuccessful'\" --\"главный экран, предложения, ввод карты, оплата\" . Поэтому целесообразно удалить это событие из исследования. Далее, мы на других цифрах убедимся, что это нужно сделать.\n"
   ]
  },
  {
   "cell_type": "code",
   "execution_count": 21,
   "metadata": {},
   "outputs": [
    {
     "name": "stdout",
     "output_type": "stream",
     "text": [
      "количество пользователей, совершившие Tutorial : 840\n",
      "количество пользователей, совершившие MainScreenAppear : 7419\n",
      "количество пользователей, совершившие OffersScreenAppear : 4593\n",
      "количество пользователей, совершившие CartScreenAppear : 3734\n",
      "количество пользователей, совершившие PaymentScreenSuccessful : 3539\n"
     ]
    }
   ],
   "source": [
    "for event in df['event'].unique():\n",
    "    print('количество пользователей, совершившие', event,':', df[df['event']==event]['id'].nunique())"
   ]
  },
  {
   "cell_type": "code",
   "execution_count": 22,
   "metadata": {},
   "outputs": [
    {
     "data": {
      "text/plain": [
       "event\n",
       "Tutorial                    840\n",
       "PaymentScreenSuccessful    3539\n",
       "CartScreenAppear           3734\n",
       "OffersScreenAppear         4593\n",
       "MainScreenAppear           7419\n",
       "Name: id, dtype: int64"
      ]
     },
     "execution_count": 22,
     "metadata": {},
     "output_type": "execute_result"
    }
   ],
   "source": [
    "df.groupby('event')['id'].nunique().sort_values()"
   ]
  },
  {
   "cell_type": "markdown",
   "metadata": {},
   "source": [
    "Видим, что больше всего пользователей заходили на MainScreenAppear, меньше всего на PaymentScreenSuccessful, несчитая Tutorial. Что объяснимо так как вышеизложенная цепочка предполагает уменьшение число пользователей при переходе к следующему звену. "
   ]
  },
  {
   "cell_type": "code",
   "execution_count": 23,
   "metadata": {},
   "outputs": [
    {
     "data": {
      "text/plain": [
       "event\n",
       "Tutorial                   11.149456\n",
       "PaymentScreenSuccessful    46.973719\n",
       "CartScreenAppear           49.561986\n",
       "OffersScreenAppear         60.963632\n",
       "MainScreenAppear           98.473586\n",
       "Name: id, dtype: float64"
      ]
     },
     "execution_count": 23,
     "metadata": {},
     "output_type": "execute_result"
    }
   ],
   "source": [
    "(df.groupby('event')['id'].nunique()/df['id'].nunique()*100).sort_values()"
   ]
  },
  {
   "cell_type": "markdown",
   "metadata": {},
   "source": [
    "Такой же результат мы видим для доли пользователей, которые хоть раз совершали событие."
   ]
  },
  {
   "cell_type": "code",
   "execution_count": 24,
   "metadata": {},
   "outputs": [],
   "source": [
    "df=df[df['event']!='Tutorial']"
   ]
  },
  {
   "cell_type": "code",
   "execution_count": 25,
   "metadata": {},
   "outputs": [
    {
     "name": "stdout",
     "output_type": "stream",
     "text": [
      "Доля для MainScreenAppear : 100\n",
      "Доля для OffersScreenAppear : 61\n",
      "Доля для CartScreenAppear : 81\n",
      "Доля для PaymentScreenSuccessful : 94\n"
     ]
    }
   ],
   "source": [
    "previos=df[df['event']=='MainScreenAppear']['id'].nunique()\n",
    "for event in df['event'].unique():\n",
    "    print('Доля для', event, ':' , int(df[df['event']==event]['id'].nunique()/previos*100))\n",
    "    previos=df[df['event']==event]['id'].nunique()"
   ]
  },
  {
   "cell_type": "markdown",
   "metadata": {},
   "source": [
    "Выше написано, какая доля пользователей проходит на следующий шаг воронки (от числа пользователей на предыдущем). Заметим, что с первого этапа на второй переходит меньше всего пользователей, чем даже с второго на третий. Это интесное наблюдение, потому, что это говорит нам о том, что 40% клиентов заходят на главную страницу сайта и не хотят проходить на страницу предложений. Это больше число чем, число тех, кто посмотрел товары и решил их оплатить. Какой из этого можно сделать вывод: компания хорошо умеет продавать товары, но не может завлечь их на страницу предложений ( клиетам наверняка не устраивает первая страница сайта)"
   ]
  },
  {
   "cell_type": "code",
   "execution_count": 26,
   "metadata": {},
   "outputs": [
    {
     "name": "stdout",
     "output_type": "stream",
     "text": [
      "доля пользователей, которая доходит от первого события до оплаты:\n",
      "47 %\n"
     ]
    }
   ],
   "source": [
    "print('доля пользователей, которая доходит от первого события до оплаты:')\n",
    "print(int(df[df['event']=='PaymentScreenSuccessful']['id'].nunique()/df[df['event']=='MainScreenAppear']['id'].nunique()*100),'%')"
   ]
  },
  {
   "cell_type": "markdown",
   "metadata": {},
   "source": [
    "### Вывод:"
   ]
  },
  {
   "cell_type": "markdown",
   "metadata": {},
   "source": [
    "Мы проаналировали события, которые могут произойти с клиентом. Отбросли ненужный. И нашли некоторые закономерности:\n",
    "* почти половина пользователей доходит до покупки товара.\n",
    "* 20% пользователей не решаются на покупку товара после просмотра предложений сайта.\n",
    "* 40% пользователей не переходят на следующую страницу после главной.\n",
    "</div>\n",
    "\n",
    "У нас неоднозначные данные, поэтому следуюет сначала поработать над главной страницей сайта, а потом заняться повышением продаж.</div>"
   ]
  },
  {
   "cell_type": "markdown",
   "metadata": {},
   "source": [
    "<a id='5-bullet'></a>"
   ]
  },
  {
   "cell_type": "markdown",
   "metadata": {},
   "source": [
    "## A/A/B-тестирование. Изучение результатов эксперимента."
   ]
  },
  {
   "cell_type": "markdown",
   "metadata": {},
   "source": [
    "Нулевая гипотеза: Между долями нет значимой разницы.\n",
    "</div> \n",
    "\n",
    "Обратная гипотеза: Между долями есть значимая разница."
   ]
  },
  {
   "cell_type": "code",
   "execution_count": 27,
   "metadata": {},
   "outputs": [],
   "source": [
    "def stat(group_1, group_2):\n",
    "    alpha = .05 # критический уровень статистической значимости\n",
    "    tmp=df.groupby('exp_id')['id'].nunique().reset_index()\n",
    "    a_1=tmp.loc[tmp['exp_id']==group_1, 'id']\n",
    "    b_1=tmp.loc[tmp['exp_id']==group_2, 'id']\n",
    "    \n",
    "    group_a=df[df['exp_id']==group_1][['event', 'id', 'time', 'date_time']]\n",
    "    group_b=df[df['exp_id']==group_2][['event', 'id', 'time', 'date_time']]\n",
    "    \n",
    "    \n",
    "    group_a_2=group_a.groupby('event')['id'].nunique().reset_index()\n",
    "    group_b_2=group_b.groupby('event')['id'].nunique().reset_index()\n",
    "    \n",
    "    for event in group_a['event'].unique():\n",
    "        a_2=group_a_2.loc[group_a_2['event']==event, 'id']\n",
    "        b_2=group_b_2.loc[group_b_2['event']==event, 'id']\n",
    "        #print(a_1.set_index())\n",
    "        successes = np.array([a_2, b_2])\n",
    "        trials = np.array([a_1, b_1])\n",
    "        \n",
    "# пропорция успехов в первой группе:\n",
    "        p1 = successes[0]/trials[0]\n",
    "# пропорция успехов во второй группе:\n",
    "        p2 = successes[1]/trials[1]\n",
    "# пропорция успехов в комбинированном датасете:\n",
    "        p_combined = (successes[0] + successes[1]) / (trials[0] + trials[1])\n",
    "# разница пропорций в датасетах\n",
    "        difference = p1 - p2\n",
    "# считаем статистику в ст.отклонениях стандартного нормального распределения\n",
    "        z_value = difference / mth.sqrt(p_combined * (1 - p_combined) * (1/trials[0] + 1/trials[1]))\n",
    "# задаем стандартное нормальное распределение (среднее 0, ст.отклонение 1)\n",
    "        distr = st.norm(0, 1) \n",
    "        p_value = (1 - distr.cdf(abs(z_value))) * 2\n",
    "\n",
    "        print('p-значение для',event, \":\", p_value)\n",
    "        print('')\n",
    "        if (p_value < alpha):\n",
    "            print(\"Отвергаем нулевую гипотезу: между долями есть значимая разница\")\n",
    "        else:\n",
    "            print(\"Не получилось отвергнуть нулевую гипотезу, нет оснований считать доли разными\")\n",
    "        print('')\n",
    "        print('')"
   ]
  },
  {
   "cell_type": "markdown",
   "metadata": {},
   "source": [
    "Мы взяли альфа 0,05 , так как у нас будет много тестов."
   ]
  },
  {
   "cell_type": "code",
   "execution_count": 28,
   "metadata": {},
   "outputs": [
    {
     "data": {
      "text/plain": [
       "exp_id\n",
       "246    2483\n",
       "247    2512\n",
       "248    2535\n",
       "Name: id, dtype: int64"
      ]
     },
     "execution_count": 28,
     "metadata": {},
     "output_type": "execute_result"
    }
   ],
   "source": [
    "df.groupby('exp_id')['id'].nunique().sort_values()"
   ]
  },
  {
   "cell_type": "code",
   "execution_count": 29,
   "metadata": {},
   "outputs": [
    {
     "data": {
      "text/plain": [
       "event\n",
       "CartScreenAppear           1266\n",
       "MainScreenAppear           2450\n",
       "OffersScreenAppear         1542\n",
       "PaymentScreenSuccessful    1200\n",
       "Tutorial                    278\n",
       "Name: id, dtype: int64"
      ]
     },
     "execution_count": 29,
     "metadata": {},
     "output_type": "execute_result"
    }
   ],
   "source": [
    "group_1.groupby('event')['id'].nunique()"
   ]
  },
  {
   "cell_type": "code",
   "execution_count": 30,
   "metadata": {},
   "outputs": [
    {
     "data": {
      "text/plain": [
       "event\n",
       "CartScreenAppear           1238\n",
       "MainScreenAppear           2476\n",
       "OffersScreenAppear         1520\n",
       "PaymentScreenSuccessful    1158\n",
       "Tutorial                    283\n",
       "Name: id, dtype: int64"
      ]
     },
     "execution_count": 30,
     "metadata": {},
     "output_type": "execute_result"
    }
   ],
   "source": [
    "group_2.groupby('event')['id'].nunique()"
   ]
  },
  {
   "cell_type": "code",
   "execution_count": 31,
   "metadata": {},
   "outputs": [
    {
     "data": {
      "text/plain": [
       "event\n",
       "CartScreenAppear           1230\n",
       "MainScreenAppear           2493\n",
       "OffersScreenAppear         1531\n",
       "PaymentScreenSuccessful    1181\n",
       "Tutorial                    279\n",
       "Name: id, dtype: int64"
      ]
     },
     "execution_count": 31,
     "metadata": {},
     "output_type": "execute_result"
    }
   ],
   "source": [
    "group_3.groupby('event')['id'].nunique()"
   ]
  },
  {
   "cell_type": "markdown",
   "metadata": {},
   "source": [
    "z-тест между группами 246 и 247."
   ]
  },
  {
   "cell_type": "code",
   "execution_count": 32,
   "metadata": {},
   "outputs": [
    {
     "name": "stdout",
     "output_type": "stream",
     "text": [
      "p-значение для MainScreenAppear : [0.75267034]\n",
      "\n",
      "Не получилось отвергнуть нулевую гипотезу, нет оснований считать доли разными\n",
      "\n",
      "\n",
      "p-значение для OffersScreenAppear : [0.24786097]\n",
      "\n",
      "Не получилось отвергнуть нулевую гипотезу, нет оснований считать доли разными\n",
      "\n",
      "\n",
      "p-значение для PaymentScreenSuccessful : [0.11446628]\n",
      "\n",
      "Не получилось отвергнуть нулевую гипотезу, нет оснований считать доли разными\n",
      "\n",
      "\n",
      "p-значение для CartScreenAppear : [0.22867644]\n",
      "\n",
      "Не получилось отвергнуть нулевую гипотезу, нет оснований считать доли разными\n",
      "\n",
      "\n"
     ]
    }
   ],
   "source": [
    "stat(246,247)"
   ]
  },
  {
   "cell_type": "markdown",
   "metadata": {},
   "source": [
    "###### По z-тестам мы увидели, что статистической разницы между выборками 246 и 247 нет. Поэтому можем спокойно проводить А\\В тест."
   ]
  },
  {
   "cell_type": "markdown",
   "metadata": {},
   "source": [
    "z-тест между группами 246 и 248"
   ]
  },
  {
   "cell_type": "code",
   "execution_count": 33,
   "metadata": {},
   "outputs": [
    {
     "name": "stdout",
     "output_type": "stream",
     "text": [
      "p-значение для MainScreenAppear : [0.33871141]\n",
      "\n",
      "Не получилось отвергнуть нулевую гипотезу, нет оснований считать доли разными\n",
      "\n",
      "\n",
      "p-значение для OffersScreenAppear : [0.21442477]\n",
      "\n",
      "Не получилось отвергнуть нулевую гипотезу, нет оснований считать доли разными\n",
      "\n",
      "\n",
      "p-значение для PaymentScreenSuccessful : [0.21693034]\n",
      "\n",
      "Не получилось отвергнуть нулевую гипотезу, нет оснований считать доли разными\n",
      "\n",
      "\n",
      "p-значение для CartScreenAppear : [0.08067368]\n",
      "\n",
      "Не получилось отвергнуть нулевую гипотезу, нет оснований считать доли разными\n",
      "\n",
      "\n"
     ]
    }
   ],
   "source": [
    "stat(246,248)"
   ]
  },
  {
   "cell_type": "markdown",
   "metadata": {},
   "source": [
    "##### Видим, что статистической разницы у групп 246 и 248 нет. "
   ]
  },
  {
   "cell_type": "markdown",
   "metadata": {},
   "source": [
    "z-тест между группами 248 и 247."
   ]
  },
  {
   "cell_type": "code",
   "execution_count": 34,
   "metadata": {},
   "outputs": [
    {
     "name": "stdout",
     "output_type": "stream",
     "text": [
      "p-значение для MainScreenAppear : [0.51949644]\n",
      "\n",
      "Не получилось отвергнуть нулевую гипотезу, нет оснований считать доли разными\n",
      "\n",
      "\n",
      "p-значение для OffersScreenAppear : [0.93337513]\n",
      "\n",
      "Не получилось отвергнуть нулевую гипотезу, нет оснований считать доли разными\n",
      "\n",
      "\n",
      "p-значение для PaymentScreenSuccessful : [0.72757187]\n",
      "\n",
      "Не получилось отвергнуть нулевую гипотезу, нет оснований считать доли разными\n",
      "\n",
      "\n",
      "p-значение для CartScreenAppear : [0.58782846]\n",
      "\n",
      "Не получилось отвергнуть нулевую гипотезу, нет оснований считать доли разными\n",
      "\n",
      "\n"
     ]
    }
   ],
   "source": [
    "stat(247,248)"
   ]
  },
  {
   "cell_type": "markdown",
   "metadata": {},
   "source": [
    "##### Видим, что статистической разницы у групп 247 и 248 нет. "
   ]
  },
  {
   "cell_type": "markdown",
   "metadata": {},
   "source": [
    "z-тест между группами 246+247 и 248"
   ]
  },
  {
   "cell_type": "code",
   "execution_count": 35,
   "metadata": {},
   "outputs": [
    {
     "name": "stdout",
     "output_type": "stream",
     "text": [
      "p-значение для MainScreenAppear : [0.34866843]\n",
      "\n",
      "Не получилось отвергнуть нулевую гипотезу, нет оснований считать доли разными\n",
      "\n",
      "\n",
      "p-значение для OffersScreenAppear : [0.44582745]\n",
      "\n",
      "Не получилось отвергнуть нулевую гипотезу, нет оснований считать доли разными\n",
      "\n",
      "\n",
      "p-значение для PaymentScreenSuccessful : [0.61079187]\n",
      "\n",
      "Не получилось отвергнуть нулевую гипотезу, нет оснований считать доли разными\n",
      "\n",
      "\n",
      "p-значение для CartScreenAppear : [0.18683559]\n",
      "\n",
      "Не получилось отвергнуть нулевую гипотезу, нет оснований считать доли разными\n",
      "\n",
      "\n"
     ]
    }
   ],
   "source": [
    "\n",
    "alpha = .05 # критический уровень статистической значимости\n",
    "tmp=df.groupby('exp_id')['id'].nunique().reset_index()\n",
    "a=tmp.loc[~(tmp['exp_id']==248), 'id']\n",
    "b_1=tmp.loc[tmp['exp_id']==248, 'id']\n",
    "a_1=a[0]+a[1]\n",
    "group_a=df[~(df['exp_id']==248)][['event', 'id', 'time', 'date_time']]\n",
    "group_b=df[df['exp_id']==248][['event', 'id', 'time', 'date_time']]\n",
    "    \n",
    "    \n",
    "group_a_2=group_a.groupby('event')['id'].nunique().reset_index()\n",
    "group_b_2=group_b.groupby('event')['id'].nunique().reset_index()\n",
    "    \n",
    "for event in group_a['event'].unique():\n",
    "    a_2=group_a_2.loc[group_a_2['event']==event, 'id']\n",
    "    b_2=group_b_2.loc[group_b_2['event']==event, 'id']\n",
    "        #print(a_1.set_index())\n",
    "    successes = np.array([a_2, b_2])\n",
    "    trials = np.array([a_1, b_1])\n",
    "      \n",
    "# пропорция успехов в первой группе:\n",
    "    p1 = successes[0]/trials[0]\n",
    "# пропорция успехов во второй группе:\n",
    "    p2 = successes[1]/trials[1]\n",
    "# пропорция успехов в комбинированном датасете:\n",
    "    p_combined = (successes[0] + successes[1]) / (trials[0] + trials[1])\n",
    "# разница пропорций в датасетах\n",
    "    difference = p1 - p2\n",
    "# считаем статистику в ст.отклонениях стандартного нормального распределения\n",
    "    z_value = difference / mth.sqrt(p_combined * (1 - p_combined) * (1/trials[0] + 1/trials[1]))\n",
    "# задаем стандартное нормальное распределение (среднее 0, ст.отклонение 1)\n",
    "    distr = st.norm(0, 1) \n",
    "    p_value = (1 - distr.cdf(abs(z_value))) * 2\n",
    "\n",
    "    print('p-значение для',event, \":\", p_value)\n",
    "    print('')\n",
    "    if (p_value < alpha):\n",
    "        print(\"Отвергаем нулевую гипотезу: между долями есть значимая разница\")\n",
    "    else:\n",
    "        print(\"Не получилось отвергнуть нулевую гипотезу, нет оснований считать доли разными\")\n",
    "    print('')\n",
    "    print('')"
   ]
  },
  {
   "cell_type": "markdown",
   "metadata": {},
   "source": [
    "##### Видим, что статистической разницы у групп 247+246 и 248 нет. "
   ]
  },
  {
   "cell_type": "markdown",
   "metadata": {},
   "source": [
    "### Вывод:"
   ]
  },
  {
   "cell_type": "markdown",
   "metadata": {},
   "source": [
    "Мы доказали, что статистической значимости между группами 246 и 247 нет, поэтому мы в праве провести А\\В тест.\n",
    "</div>\n",
    "\n",
    "Статистически значимых различий между группами 246 и 248 нет.\n",
    "</div>\n",
    "\n",
    "Статистически значимых различий между группами 247 и 248 нет.\n",
    "</div>\n",
    "\n",
    "Статистически значимых различий между группами 246+247 и 248 нет."
   ]
  },
  {
   "cell_type": "markdown",
   "metadata": {},
   "source": [
    "<a id='6-bullet'></a>"
   ]
  },
  {
   "cell_type": "markdown",
   "metadata": {},
   "source": [
    "## Общий вывод:"
   ]
  },
  {
   "cell_type": "markdown",
   "metadata": {},
   "source": [
    "Мы вывели, что при изменении шрифта количество продаж и других переходов на сайте не изменилось. Поэтому мы можем изменить шрифт на сайте без опасений, что клиентам он не понравится, но к сожалению, этот ход не увеличит продажи.\n",
    "Также мы заметили, что только половина посетителей покупают товар, это не плохой результат, но можно его улучшить. И еще заметили, что приличная часть людей не заходят в раздел предложений после посещения главной страницы. Это важный показатель, так как это может говорить о том, что пользователем не понравилась первая страничка (проблемы с дизайном)."
   ]
  }
 ],
 "metadata": {
  "kernelspec": {
   "display_name": "Python 3",
   "language": "python",
   "name": "python3"
  },
  "language_info": {
   "codemirror_mode": {
    "name": "ipython",
    "version": 3
   },
   "file_extension": ".py",
   "mimetype": "text/x-python",
   "name": "python",
   "nbconvert_exporter": "python",
   "pygments_lexer": "ipython3",
   "version": "3.8.3"
  },
  "toc": {
   "base_numbering": 1,
   "nav_menu": {},
   "number_sections": true,
   "sideBar": true,
   "skip_h1_title": true,
   "title_cell": "Table of Contents",
   "title_sidebar": "Contents",
   "toc_cell": false,
   "toc_position": {},
   "toc_section_display": true,
   "toc_window_display": false
  }
 },
 "nbformat": 4,
 "nbformat_minor": 2
}
